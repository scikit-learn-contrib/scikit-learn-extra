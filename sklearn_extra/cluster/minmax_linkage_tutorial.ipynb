{
 "cells": [
  {
   "cell_type": "markdown",
   "metadata": {},
   "source": [
    "This notebook briefly explains [minmax linkage](https://www.ncbi.nlm.nih.gov/pmc/articles/PMC4527350/) in hierarchical clustering and it provides a naive implementation "
   ]
  },
  {
   "cell_type": "markdown",
   "metadata": {},
   "source": [
    "# What is min-max linkage?\n",
    "\n",
    "A minmax radius of cluster can be defined as: <br>\n",
    "$r(C) = \\min_{x \\in C} {d_{max}(x,C)}$\n",
    "\n",
    "In other words, for each observation in the cluster $C$, its distance to its furthest neighbor is calculated. Then, among the calculated distances for all observations in $C$, its minimum is considered as its radius.\n",
    "\n",
    "Note that a (closed) ball of radius $r(C)$ centered at the prototype covers all of C. "
   ]
  },
  {
   "cell_type": "markdown",
   "metadata": {},
   "source": [
    "Now, the minimax linkage between two clusters G and H is defined as follows: <br>\n",
    "$d(G,H) = r(G \\cup H)$"
   ]
  },
  {
   "cell_type": "markdown",
   "metadata": {},
   "source": [
    "# Naive Implementation"
   ]
  },
  {
   "cell_type": "code",
   "execution_count": 58,
   "metadata": {},
   "outputs": [],
   "source": [
    "#Importing Libraries\n",
    "\n",
    "from sklearn.metrics import pairwise_distances\n",
    "import copy\n",
    "import numpy as np\n",
    "from sklearn.preprocessing import StandardScaler\n",
    "import matplotlib.pyplot as plt"
   ]
  },
  {
   "cell_type": "code",
   "execution_count": 59,
   "metadata": {},
   "outputs": [],
   "source": [
    "def agglemorative_clustering_minmax(X, affinity='euclidean', n_clusters=2):\n",
    "    \"\"\"\n",
    "    X: array-like, shape (n_samples, n_features) or (n_samples, n_samples)\n",
    "    \n",
    "    affinity: \"precomputed\" or \"euclidean\" (default) \n",
    "    Metric used to compute the distance between any two samples\n",
    "    \n",
    "    n_clusters: int, default=2\n",
    "    The number of clusters to find. \n",
    "    \"\"\"\n",
    "    \n",
    "    #calculating distance matrix D\n",
    "    if affinity==\"precomputed\":\n",
    "        D = copy.deepcopy(X)\n",
    "    elif affinity==\"euclidean\":\n",
    "        D =  pairwise_distances(X)\n",
    "        \n",
    "    \n",
    "    #create a copy of D to update \n",
    "    D_to_update = copy.deepcopy(D)\n",
    "    \n",
    "    #initial number of clusters equals to number of samples\n",
    "    n_samples = np.shape(X)[0] \n",
    "     \n",
    "    groups = {}\n",
    "    for idx in range(n_samples):\n",
    "        groups[idx] = [idx]\n",
    "        \n",
    "    \n",
    "    #after deleting two groups, we will add a new group in the dictionary with new key (see iteration below) \n",
    "    #to make sure the new key is different than the previous ones, we just start with n_samples\n",
    "    new_key = n_samples\n",
    "    \n",
    "    \n",
    "    #iteration to find clusters\n",
    "    k = n_samples #initial number of clusters\n",
    "    while k > n_clusters:\n",
    "        #print('k>>> ', k)\n",
    "        groups_keys = list(groups.keys())\n",
    "        \n",
    "        #filling diagonal with large value\n",
    "        np.fill_diagonal(D_to_update, float('inf'))\n",
    "        \n",
    "        D_1NN = np.min(D_to_update, axis=1)\n",
    "        D_1NN_idx = np.argmin(D_to_update, axis=1)\n",
    "        \n",
    "        C_i = np.argmin(D_1NN)\n",
    "        C_j = D_1NN_idx[C_i]\n",
    "        \n",
    "        key_i = groups_keys[C_i]\n",
    "        key_j = groups_keys[C_j]\n",
    "        \n",
    "        #after finding the two set of cluster, we are going to update the distance matrix \n",
    "        #we add a new row and column to the end of matrix \n",
    "        # we remove the i-th and j-th groups\n",
    "        #and calculate the distance between the new cluster and others\n",
    "        \n",
    "        groups[new_key] = groups[key_i]\n",
    "        groups[new_key].extend(groups[key_j])\n",
    "        del groups[key_i]\n",
    "        del groups[key_j]\n",
    "        \n",
    "        \n",
    "        D_to_update = np.delete(D_to_update, [C_i, C_j], axis=0)\n",
    "        D_to_update = np.delete(D_to_update, [C_i, C_j], axis=1)\n",
    "        \n",
    "        D_new = np.zeros((k-1,k-1))\n",
    "        D_new[:-1,:-1] = D_to_update\n",
    "        for idx_key, key in enumerate(groups.keys()):\n",
    "            obs_lst = groups[new_key][:]\n",
    "            obs_lst.extend(groups[key])\n",
    "            \n",
    "            new_distance = np.min(np.max(D[np.ix_(obs_lst,obs_lst)], axis=1))\n",
    "            D_new[idx_key,-1] = new_distance\n",
    "            D_new[-1, idx_key] = new_distance\n",
    "        \n",
    "        \n",
    "        #updating D_to_update \n",
    "        D_to_update = D_new\n",
    "        \n",
    "        \n",
    "        \n",
    "        #updating the current number of clusters\n",
    "        k = len(groups.keys())\n",
    "    \n",
    "        #update the next new key:\n",
    "        new_key += 1 #in the next run, use this new key\n",
    "    \n",
    "    return groups"
   ]
  },
  {
   "cell_type": "markdown",
   "metadata": {},
   "source": [
    "# Test it on toy data:"
   ]
  },
  {
   "cell_type": "code",
   "execution_count": 61,
   "metadata": {},
   "outputs": [
    {
     "data": {
      "image/png": "[encoded data removed]",
      "text/plain": [
       "<Figure size 432x288 with 1 Axes>"
      ]
     },
     "metadata": {
      "needs_background": "light"
     },
     "output_type": "display_data"
    }
   ],
   "source": [
    "toy_data = np.array([[-1,0],\n",
    "                     [0,0],\n",
    "                     [1,0],\n",
    "                     [5,4],\n",
    "                     [5,5],\n",
    "                     [5,6]])\n",
    "\n",
    "\n",
    "\n",
    "sc = StandardScaler()\n",
    "X = sc.fit_transform(toy_data)\n",
    "clusters = agglemorative_clustering_minmax(X, affinity='euclidean', n_clusters=2)\n",
    "\n",
    "color_of_clusters = ['r', 'b']\n",
    "\n",
    "for idx_group, group in enumerate(clusters):\n",
    "    for j in clusters[group]:\n",
    "        plt.scatter(x=toy_data[j][0], y=toy_data[j][1], color=color_of_clusters[idx_group])\n",
    "\n",
    "plt.show()"
   ]
  }
 ],
 "metadata": {
  "kernelspec": {
   "display_name": "Python 3",
   "language": "python",
   "name": "python3"
  },
  "language_info": {
   "codemirror_mode": {
    "name": "ipython",
    "version": 3
   },
   "file_extension": ".py",
   "mimetype": "text/x-python",
   "name": "python",
   "nbconvert_exporter": "python",
   "pygments_lexer": "ipython3",
   "version": "3.8.5"
  }
 },
 "nbformat": 4,
 "nbformat_minor": 4
}
